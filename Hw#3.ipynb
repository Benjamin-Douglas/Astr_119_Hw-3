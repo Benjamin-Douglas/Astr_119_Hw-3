{
 "cells": [
  {
   "cell_type": "code",
   "execution_count": null,
   "metadata": {},
   "outputs": [],
   "source": [
    "import numpy as np\n",
    "import matplotlib.pyplot as plt"
   ]
  },
  {
   "cell_type": "code",
   "execution_count": null,
   "metadata": {},
   "outputs": [],
   "source": [
    "def function_for_roots(x):\n",
    "    a = 1.01\n",
    "    b = -3.04\n",
    "    c = 2.07\n",
    "    return a*x**2 + b*x + c"
   ]
  },
  {
   "cell_type": "code",
   "execution_count": null,
   "metadata": {},
   "outputs": [],
   "source": [
    "def check_initial_values(f, x_min, x_max, tol):\n",
    "    \n",
    "    y_min = f(x_min)\n",
    "    y_max = f(x_max)\n",
    "    \n",
    "    if(y_min*y_max>=0.0):\n",
    "        print(\"no zero crossing in the range = \",x_min,x_max)\n",
    "        s = \"f(%f) = %f, f(%f) = %f\" % (x_min,y_min,x_max,y_max)\n",
    "        print(s)\n",
    "        return 0\n",
    "    if(np.fabs(y_min)<tol):\n",
    "        return 1\n",
    "    if(np.fabs(y_max)<tol):\n",
    "        return 2\n",
    "    return 3"
   ]
  },
  {
   "cell_type": "code",
   "execution_count": null,
   "metadata": {},
   "outputs": [],
   "source": [
    "def bisection_root_finding(f, x_min_start, x_max_start, tol):\n",
    "        #uses bisection search to find a root\n",
    "    x_min = x_min_start   #min x in bracket\n",
    "    x_max = x_max_start   #max x in bracket\n",
    "    x_mid = 0.0           #mid point\n",
    "    \n",
    "    y_min = f(x_min)\n",
    "    y_max = f(x_max)\n",
    "    y_mid = 0.0\n",
    "    \n",
    "    imax = 10000    #max number of iterations\n",
    "    i = 0.0       #iteration counter\n",
    "    \n",
    "    flag = check_initial_values(f, x_min, x_max, tol)\n",
    "    if(flag==0):\n",
    "        print(\"error in bisection_root_finding().\")\n",
    "        raise ValueError('initial values invalid',x_min,x_max)\n",
    "    elif(flag==1):\n",
    "                      #lucky guess\n",
    "        return x_min\n",
    "    elif(flag==2):\n",
    "                      #lucky guess\n",
    "        return x_max\n",
    "    #if we reach here we need to conduct the search\n",
    "    #set a flag\n",
    "    flag = 1\n",
    "    \n",
    "    #enter a while loop\n",
    "    while(flag):\n",
    "        x_mid = .5*(x_min+x_max)  #mid point\n",
    "        y_mid = f(x_mid)          #function value at midpoint\n",
    "        \n",
    "        #check if x_mid is a root\n",
    "        if(np.fabs(y_mid)<tol):\n",
    "            flag = 0\n",
    "        else:\n",
    "            if(f(x_min)*f(x_mid)>0):   #if our discovered mid point and minimal value of x are both positive, replace x_min with x_mid\n",
    "                x_min = x_mid\n",
    "            else:\n",
    "                x_max = x_mid     \n",
    "                #basically in all this we are getting closer and closer to the root by going between + and - products.\n",
    "        print(x_min,f(x_min),x_max,f(x_max))\n",
    "        i += 1\n",
    "        #if i>imax stop the iterations\n",
    "        if(i>imax):\n",
    "            print(\"exceeded max number of iterations = \",i)\n",
    "            s = \"Min bracket f(%f) = %f\" % (x_min,f(x_min))\n",
    "            print(s)\n",
    "            s = \"Max bracket f(%f) = %f\" % (x_max,f(x_max))\n",
    "            print(s)\n",
    "            s = \"Mid bracket f(%f) = %f\" % (x_mid,f(x_mid))\n",
    "    print(\"this is how many iterations it took: \", i)\n",
    "    return x_mid"
   ]
  },
  {
   "cell_type": "code",
   "execution_count": null,
   "metadata": {},
   "outputs": [],
   "source": [
    "x_min = 1.0\n",
    "x_max = 1.1\n",
    "tolerance = 1.0e-6\n",
    "\n",
    "#print initial guess\n",
    "print(x_min,function_for_roots(x_min))\n",
    "print(x_max,function_for_roots(x_max))\n",
    "\n",
    "x_root = bisection_root_finding(function_for_roots,x_min,x_max,tolerance)\n",
    "y_root = function_for_roots(x_root)\n",
    "\n",
    "s = \"root found with y(%f) = %f\" % (x_root,y_root)\n",
    "print(s)"
   ]
  },
  {
   "cell_type": "code",
   "execution_count": null,
   "metadata": {},
   "outputs": [],
   "source": [
    "x_min = 1.9\n",
    "x_max = 2.0\n",
    "tolerance = 1.0e-6\n",
    "\n",
    "#print initial guess\n",
    "print(x_min,function_for_roots(x_min))\n",
    "print(x_max,function_for_roots(x_max))\n",
    "\n",
    "x_root2 = bisection_root_finding(function_for_roots,x_min,x_max,tolerance)\n",
    "y_root2 = function_for_roots(x_root)\n",
    "\n",
    "s = \"root found with y(%f) = %f\" % (x_root,y_root)\n",
    "print(s)"
   ]
  },
  {
   "cell_type": "code",
   "execution_count": null,
   "metadata": {
    "scrolled": true
   },
   "outputs": [],
   "source": [
    "x = np.linspace(0,3,1000)\n",
    "y = 1.01*x**2-3.04*x+2.07\n",
    "z = x*0\n",
    "plt.plot(x,y)\n",
    "plt.plot(x,z)\n",
    "plt.plot(x_root,y_root, 'bo')\n",
    "plt.plot(x_root2,y_root2, 'bo')\n",
    "plt.xlim(0,3)\n",
    "plt.ylim(-.5,2.1)"
   ]
  }
 ],
 "metadata": {
  "kernelspec": {
   "display_name": "Python 3",
   "language": "python",
   "name": "python3"
  },
  "language_info": {
   "codemirror_mode": {
    "name": "ipython",
    "version": 3
   },
   "file_extension": ".py",
   "mimetype": "text/x-python",
   "name": "python",
   "nbconvert_exporter": "python",
   "pygments_lexer": "ipython3",
   "version": "3.6.5"
  }
 },
 "nbformat": 4,
 "nbformat_minor": 2
}
